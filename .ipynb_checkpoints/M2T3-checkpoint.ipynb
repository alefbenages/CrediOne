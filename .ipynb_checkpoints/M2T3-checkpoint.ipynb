{
 "cells": [
  {
   "cell_type": "markdown",
   "metadata": {},
   "source": [
    "# Libraries"
   ]
  },
  {
   "cell_type": "code",
   "execution_count": 158,
   "metadata": {},
   "outputs": [],
   "source": [
    "# basics\n",
    "import pandas as pd\n",
    "import numpy as np\n",
    "import matplotlib.pyplot as plt\n",
    "from math import sqrt\n",
    "import seaborn as sns\n",
    "\n",
    "\n",
    "# estimators\n",
    "from sklearn.neighbors import KNeighborsClassifier\n",
    "from sklearn.ensemble import RandomForestRegressor\n",
    "from sklearn.ensemble import GradientBoostingRegressor\n",
    "from sklearn.linear_model import LinearRegression, Ridge, Lasso\n",
    "from sklearn.svm import SVR\n",
    "from sklearn.linear_model import LogisticRegression\n",
    "from sklearn.tree import DecisionTreeRegressor\n",
    "\n",
    "\n",
    "# tools\n",
    "from sklearn.model_selection import train_test_split\n",
    "\n",
    "#model metrics\n",
    "from sklearn.metrics import mean_squared_error\n",
    "from sklearn.metrics import r2_score\n",
    "from sklearn.model_selection import cross_val_score\n",
    "\n",
    "#Hyper parameter tuning\n",
    "from sklearn.model_selection import RandomizedSearchCV, GridSearchCV"
   ]
  },
  {
   "cell_type": "markdown",
   "metadata": {},
   "source": [
    "# Import Data"
   ]
  },
  {
   "cell_type": "code",
   "execution_count": 2,
   "metadata": {},
   "outputs": [
    {
     "data": {
      "text/html": [
       "<div>\n",
       "<style scoped>\n",
       "    .dataframe tbody tr th:only-of-type {\n",
       "        vertical-align: middle;\n",
       "    }\n",
       "\n",
       "    .dataframe tbody tr th {\n",
       "        vertical-align: top;\n",
       "    }\n",
       "\n",
       "    .dataframe thead th {\n",
       "        text-align: right;\n",
       "    }\n",
       "</style>\n",
       "<table border=\"1\" class=\"dataframe\">\n",
       "  <thead>\n",
       "    <tr style=\"text-align: right;\">\n",
       "      <th></th>\n",
       "      <th>Unnamed: 0</th>\n",
       "      <th>ID</th>\n",
       "      <th>LIMIT_BAL</th>\n",
       "      <th>PAY_0</th>\n",
       "      <th>PAY_2</th>\n",
       "      <th>PAY_3</th>\n",
       "      <th>PAY_4</th>\n",
       "      <th>PAY_5</th>\n",
       "      <th>PAY_6</th>\n",
       "      <th>PAY_AMT1</th>\n",
       "      <th>PAY_AMT2</th>\n",
       "      <th>PAY_AMT3</th>\n",
       "      <th>PAY_AMT4</th>\n",
       "      <th>Y_default</th>\n",
       "    </tr>\n",
       "  </thead>\n",
       "  <tbody>\n",
       "    <tr>\n",
       "      <th>0</th>\n",
       "      <td>1</td>\n",
       "      <td>1</td>\n",
       "      <td>20000.0</td>\n",
       "      <td>2.0</td>\n",
       "      <td>2.0</td>\n",
       "      <td>-1.0</td>\n",
       "      <td>-1.0</td>\n",
       "      <td>-2.0</td>\n",
       "      <td>-2.0</td>\n",
       "      <td>0.0</td>\n",
       "      <td>689.0</td>\n",
       "      <td>0.0</td>\n",
       "      <td>0.0</td>\n",
       "      <td>1</td>\n",
       "    </tr>\n",
       "    <tr>\n",
       "      <th>1</th>\n",
       "      <td>2</td>\n",
       "      <td>2</td>\n",
       "      <td>120000.0</td>\n",
       "      <td>-1.0</td>\n",
       "      <td>2.0</td>\n",
       "      <td>0.0</td>\n",
       "      <td>0.0</td>\n",
       "      <td>0.0</td>\n",
       "      <td>2.0</td>\n",
       "      <td>0.0</td>\n",
       "      <td>1000.0</td>\n",
       "      <td>1000.0</td>\n",
       "      <td>1000.0</td>\n",
       "      <td>1</td>\n",
       "    </tr>\n",
       "    <tr>\n",
       "      <th>2</th>\n",
       "      <td>3</td>\n",
       "      <td>3</td>\n",
       "      <td>90000.0</td>\n",
       "      <td>0.0</td>\n",
       "      <td>0.0</td>\n",
       "      <td>0.0</td>\n",
       "      <td>0.0</td>\n",
       "      <td>0.0</td>\n",
       "      <td>0.0</td>\n",
       "      <td>1518.0</td>\n",
       "      <td>1500.0</td>\n",
       "      <td>1000.0</td>\n",
       "      <td>1000.0</td>\n",
       "      <td>0</td>\n",
       "    </tr>\n",
       "    <tr>\n",
       "      <th>3</th>\n",
       "      <td>4</td>\n",
       "      <td>4</td>\n",
       "      <td>50000.0</td>\n",
       "      <td>0.0</td>\n",
       "      <td>0.0</td>\n",
       "      <td>0.0</td>\n",
       "      <td>0.0</td>\n",
       "      <td>0.0</td>\n",
       "      <td>0.0</td>\n",
       "      <td>2000.0</td>\n",
       "      <td>2019.0</td>\n",
       "      <td>1200.0</td>\n",
       "      <td>1100.0</td>\n",
       "      <td>0</td>\n",
       "    </tr>\n",
       "    <tr>\n",
       "      <th>4</th>\n",
       "      <td>5</td>\n",
       "      <td>5</td>\n",
       "      <td>50000.0</td>\n",
       "      <td>-1.0</td>\n",
       "      <td>0.0</td>\n",
       "      <td>-1.0</td>\n",
       "      <td>0.0</td>\n",
       "      <td>0.0</td>\n",
       "      <td>0.0</td>\n",
       "      <td>2000.0</td>\n",
       "      <td>36681.0</td>\n",
       "      <td>10000.0</td>\n",
       "      <td>9000.0</td>\n",
       "      <td>0</td>\n",
       "    </tr>\n",
       "  </tbody>\n",
       "</table>\n",
       "</div>"
      ],
      "text/plain": [
       "   Unnamed: 0  ID  LIMIT_BAL  PAY_0  PAY_2  PAY_3  PAY_4  PAY_5  PAY_6  \\\n",
       "0           1   1    20000.0    2.0    2.0   -1.0   -1.0   -2.0   -2.0   \n",
       "1           2   2   120000.0   -1.0    2.0    0.0    0.0    0.0    2.0   \n",
       "2           3   3    90000.0    0.0    0.0    0.0    0.0    0.0    0.0   \n",
       "3           4   4    50000.0    0.0    0.0    0.0    0.0    0.0    0.0   \n",
       "4           5   5    50000.0   -1.0    0.0   -1.0    0.0    0.0    0.0   \n",
       "\n",
       "   PAY_AMT1  PAY_AMT2  PAY_AMT3  PAY_AMT4  Y_default  \n",
       "0       0.0     689.0       0.0       0.0          1  \n",
       "1       0.0    1000.0    1000.0    1000.0          1  \n",
       "2    1518.0    1500.0    1000.0    1000.0          0  \n",
       "3    2000.0    2019.0    1200.0    1100.0          0  \n",
       "4    2000.0   36681.0   10000.0    9000.0          0  "
      ]
     },
     "execution_count": 2,
     "metadata": {},
     "output_type": "execute_result"
    }
   ],
   "source": [
    "# import claned and pre-procesed data\n",
    "df = pd.read_csv('DF_M2T2_Light.csv')\n",
    "df.head()"
   ]
  },
  {
   "cell_type": "markdown",
   "metadata": {},
   "source": [
    "## Define the features and Dependent Values"
   ]
  },
  {
   "cell_type": "code",
   "execution_count": 98,
   "metadata": {},
   "outputs": [],
   "source": [
    "y = df[['Y_default']]\n",
    "X = df.drop('Y_default', axis=1)"
   ]
  },
  {
   "cell_type": "markdown",
   "metadata": {},
   "source": [
    "# Phase 0 >> Divide data into: Train - Validation - Test\n",
    "\n",
    "Split data into: train, validation and test sets, or just train and test (depending on the function you will use)."
   ]
  },
  {
   "cell_type": "code",
   "execution_count": 6,
   "metadata": {},
   "outputs": [
    {
     "name": "stdout",
     "output_type": "stream",
     "text": [
      "DF:  (30000, 14)\n",
      "X:       (30000, 13) y:       (30000, 1)\n",
      "X_Train: (22500, 13) y_Train: (22500, 1)\n",
      "X_Valid: (4500, 13)  y_Valid: (4500, 1)\n",
      "X_Test:  (3000, 13)  y_Test:  (3000, 1)\n"
     ]
    }
   ],
   "source": [
    "train_ratio = 0.75\n",
    "validation_ratio = 0.15\n",
    "test_ratio = 0.10\n",
    "\n",
    "# train is now <train_ratio> % of the entire data set the _junk suffix means that we drop that variable completely\n",
    "X_train, X_test, y_train, y_test = train_test_split(X, y, test_size=(1-train_ratio) )\n",
    "\n",
    "# test is now <test_ratio> % of the initial data set\n",
    "# validation is now <validation_ratio> % of the initial data set\n",
    "X_val, X_test, y_val, y_test = train_test_split(X_test, y_test, test_size=test_ratio/(test_ratio + validation_ratio)) \n",
    "\n",
    "print('DF: ', df.shape)\n",
    "print('X:      ', X.shape, 'y:      ', y.shape)\n",
    "print('X_Train:', X_train.shape,'y_Train:', y_train.shape)\n",
    "print('X_Valid:', X_val.shape, ' y_Valid:', y_val.shape)\n",
    "print('X_Test: ', X_test.shape,' y_Test: ', y_test.shape)"
   ]
  },
  {
   "cell_type": "markdown",
   "metadata": {},
   "source": [
    "# Phase 1\n",
    "\n",
    "Train the model on the training set and get the first performance measures on the validation set."
   ]
  },
  {
   "cell_type": "code",
   "execution_count": 34,
   "metadata": {},
   "outputs": [],
   "source": [
    "# list of possible candidates\n",
    "algo_Candidates = []\n",
    "\n",
    "algo_Candidates.append(('Random Forest Regressor', RandomForestRegressor()))\n",
    "algo_Candidates.append(('Linear Regression', LinearRegression()))\n",
    "algo_Candidates.append(('Suport Vector Regression', SVR()))\n",
    "algo_Candidates.append(('Logistic Regression', LogisticRegression()))\n",
    "algo_Candidates.append(('k-NN', KNeighborsClassifier()))\n",
    "algo_Candidates.append(('Gradient Boosting Regressor', GradientBoostingRegressor()))\n",
    "algo_Candidates.append(('Desicion Tree Regressor', DecisionTreeRegressor()))"
   ]
  },
  {
   "cell_type": "code",
   "execution_count": 126,
   "metadata": {},
   "outputs": [
    {
     "name": "stdout",
     "output_type": "stream",
     "text": [
      "MODEL:  Random Forest Regressor\n",
      "Train score: 0.8827872513919397\n",
      "Validation score: 0.1959585783552561\n",
      "R sqared (Overall model accuracy): 0.17881325714285712\n",
      "RMSE (Mean Squared Error): 0.14193351111111113\n",
      "-------------------------------- \n",
      "\n",
      "MODEL:  Linear Regression\n",
      "Train score: 0.11490770771258962\n",
      "Validation score: 0.12589114584674954\n",
      "R sqared (Overall model accuracy): 0.10735447337837256\n",
      "RMSE (Mean Squared Error): 0.15428441200867635\n",
      "-------------------------------- \n",
      "\n",
      "MODEL:  Suport Vector Regression\n",
      "Train score: -0.08331861633239535\n",
      "Validation score: -0.09653986963076666\n",
      "R sqared (Overall model accuracy): -0.08669260685055491\n",
      "RMSE (Mean Squared Error): 0.18782341352972554\n",
      "-------------------------------- \n",
      "\n",
      "MODEL:  Logistic Regression\n",
      "Train score: 0.7802666666666667\n",
      "Validation score: 0.7693333333333333\n",
      "R sqared (Overall model accuracy): -0.2857142857142856\n",
      "RMSE (Mean Squared Error): 0.2222222222222222\n",
      "-------------------------------- \n",
      "\n",
      "MODEL:  k-NN\n",
      "Train score: 0.8097333333333333\n",
      "Validation score: 0.7476666666666667\n",
      "R sqared (Overall model accuracy): -0.4772857142857141\n",
      "RMSE (Mean Squared Error): 0.25533333333333336\n",
      "-------------------------------- \n",
      "\n",
      "MODEL:  Gradient Boosting Regressor\n",
      "Train score: 0.23957304011965064\n",
      "Validation score: 0.2247444887321347\n",
      "R sqared (Overall model accuracy): 0.21162606840991038\n",
      "RMSE (Mean Squared Error): 0.13626216101557106\n",
      "-------------------------------- \n",
      "\n",
      "MODEL:  Desicion Tree Regressor\n",
      "Train score: 1.0\n",
      "Validation score: -0.5252301619899618\n",
      "R sqared (Overall model accuracy): -0.5737142857142856\n",
      "RMSE (Mean Squared Error): 0.272\n",
      "-------------------------------- \n",
      "\n"
     ]
    }
   ],
   "source": [
    "models=[]\n",
    "performance=[]\n",
    "\n",
    "for name, model in algo_Candidates:\n",
    "    # train the model\n",
    "    model = model.fit(X_train, y_train.values.ravel())\n",
    "    \n",
    "    # Get predictions and performance\n",
    "    predictions = model.predict(X_val)\n",
    "    \n",
    "    # print results\n",
    "    print('MODEL: ',name)\n",
    "    print('Train score: {}'.format(model.score(X_train,y_train)))\n",
    "    print('Validation score: {}'.format(model.score(X_test,y_test)))\n",
    "    print('R sqared (Overall model accuracy): {}'.format(r2_score(y_val,predictions)))\n",
    "    print('RMSE (Mean Squared Error): {}'.format(mean_squared_error(y_val,predictions)))\n",
    "    print('-------------------------------- \\n')\n",
    "    \n",
    "    # save the models into a list of tuples\n",
    "    models.append((name,model))"
   ]
  },
  {
   "cell_type": "markdown",
   "metadata": {},
   "source": [
    "* from this list of algorithms I choose **Gradient boosting Regresor**. It's performing poorly but has acceptable values. \n",
    "\n",
    "\n",
    "\n",
    "* **Random Forest Regressor** is overfitting, because it's performing pretty well on the training set, but poorly in the validation set. \n",
    "* **Linear Regression** has a very low score, but it's not overfitting. \n",
    "* **SVR** has negative values everywhere. \n",
    "* **LogReg** is ding nice on the train/val, but with negative values on R2.\n",
    "* **k-NN** is ding nice on the train/val, but with negative values on R2.\n",
    "* **Decision Tree Regressor** is oferfitting a lot. "
   ]
  },
  {
   "cell_type": "markdown",
   "metadata": {},
   "source": [
    "# Phase 2: \n",
    "\n",
    "Train with Cross-Validation and select the best candidates"
   ]
  },
  {
   "cell_type": "markdown",
   "metadata": {},
   "source": [
    "### Cross Validation "
   ]
  },
  {
   "cell_type": "code",
   "execution_count": 37,
   "metadata": {},
   "outputs": [],
   "source": [
    "results = []\n",
    "names = []\n",
    "for name, model in models:\n",
    "    result = cross_val_score(model, X_train, y_train.values.ravel(), cv=3, scoring='r2')\n",
    "    names.append(name)\n",
    "    results.append(result)"
   ]
  },
  {
   "cell_type": "markdown",
   "metadata": {},
   "source": [
    "### Define the best candidates\n",
    "\n",
    "As we used **r2** as scoring in the Cross-Val, we want to use the algorithms with values as close as possible to 1.  "
   ]
  },
  {
   "cell_type": "code",
   "execution_count": 38,
   "metadata": {},
   "outputs": [
    {
     "name": "stdout",
     "output_type": "stream",
     "text": [
      "Random Forest Regressor  r2 ->  0.16\n",
      "Linear Regression  r2 ->  0.11\n",
      "Suport Vector Regression  r2 ->  -0.08\n",
      "Logistic Regression  r2 ->  -0.28\n",
      "k-NN  r2 ->  -0.44\n",
      "Gradient Boosting Regressor  r2 ->  0.21\n",
      "Desicion Tree Regressor  r2 ->  -0.61\n"
     ]
    }
   ],
   "source": [
    "for i in range(len(names)):\n",
    "    \n",
    "    print(names[i], ' r2 -> ', round(results[i].mean(),2))"
   ]
  },
  {
   "cell_type": "markdown",
   "metadata": {},
   "source": [
    "So the best algorithm is **Gradient Boosting Regressor**. \n",
    "\n",
    "The negative values means that this model is not performing better than the most stupid one that's an horizontal line simple line, wich predicts always the same value. "
   ]
  },
  {
   "cell_type": "markdown",
   "metadata": {},
   "source": [
    "# Phase 3:\n",
    "\n",
    "Find a better hyper-parameters values combination"
   ]
  },
  {
   "cell_type": "markdown",
   "metadata": {},
   "source": [
    "## Gradient Boosting Regressor\n"
   ]
  },
  {
   "cell_type": "code",
   "execution_count": 40,
   "metadata": {},
   "outputs": [
    {
     "data": {
      "text/plain": [
       "{'alpha': 0.9,\n",
       " 'ccp_alpha': 0.0,\n",
       " 'criterion': 'friedman_mse',\n",
       " 'init': None,\n",
       " 'learning_rate': 0.1,\n",
       " 'loss': 'ls',\n",
       " 'max_depth': 3,\n",
       " 'max_features': None,\n",
       " 'max_leaf_nodes': None,\n",
       " 'min_impurity_decrease': 0.0,\n",
       " 'min_impurity_split': None,\n",
       " 'min_samples_leaf': 1,\n",
       " 'min_samples_split': 2,\n",
       " 'min_weight_fraction_leaf': 0.0,\n",
       " 'n_estimators': 100,\n",
       " 'n_iter_no_change': None,\n",
       " 'presort': 'deprecated',\n",
       " 'random_state': None,\n",
       " 'subsample': 1.0,\n",
       " 'tol': 0.0001,\n",
       " 'validation_fraction': 0.1,\n",
       " 'verbose': 0,\n",
       " 'warm_start': False}"
      ]
     },
     "execution_count": 40,
     "metadata": {},
     "output_type": "execute_result"
    }
   ],
   "source": [
    "gradient_model = GradientBoostingRegressor()  # instantiate the model\n",
    "\n",
    "# print the state of full list of parametrizable parameters\n",
    "gradient_model.get_params(deep=True)"
   ]
  },
  {
   "cell_type": "code",
   "execution_count": 67,
   "metadata": {},
   "outputs": [],
   "source": [
    "params = {\n",
    "    'max_features':['auto','sqrt','log2'],\n",
    "    'min_samples_split':[2,3,4,5,6,7,8,9],\n",
    "    'min_samples_leaf':[1,2,3,4,5,6,7,8,9],\n",
    "    'max_depth':[2,3,4,5,6,7],\n",
    "    'learning_rate' : [0.05,0.1,0.2,0.3,0.4,0.5]\n",
    "         }   \n",
    "\n",
    "gradient_search = RandomizedSearchCV(gradient_model,params,cv=4,n_jobs=-1,n_iter=50)   # initialize the search\n",
    "\n",
    "gradient_search.fit(X_train,y_train.values.ravel())   # fit the model\n",
    "\n",
    "gradient_pred = gradient_search.predict(X_val)  # make predictions with the model"
   ]
  },
  {
   "cell_type": "code",
   "execution_count": 49,
   "metadata": {},
   "outputs": [
    {
     "name": "stdout",
     "output_type": "stream",
     "text": [
      "Best parameter found:\n",
      "{'min_samples_split': 8, 'min_samples_leaf': 4, 'max_features': 'log2', 'max_depth': 5, 'learning_rate': 0.05}\n",
      "\n",
      "Train score: 0.2601606499756818\n",
      "\n",
      "Test score: 0.2134446373903629\n",
      "\n",
      "Overall model accuracy: 0.2134446373903629\n",
      "\n",
      "Mean Squared Error: 0.1359478404510484\n",
      "\n"
     ]
    }
   ],
   "source": [
    "# print out the best parameters and score the model\n",
    "print('Best parameter found:\\n{}\\n'.format(gradient_search.best_params_))\n",
    "print('Train score: {}\\n'.format(gradient_search.score(X_train,y_train)))\n",
    "print('Test score: {}\\n'.format(gradient_search.score(X_val,y_val)))\n",
    "print('Overall model accuracy: {}\\n'.format(r2_score(y_val,gradient_pred)))\n",
    "print('Mean Squared Error: {}\\n'.format(mean_squared_error(y_val,gradient_pred)))"
   ]
  },
  {
   "cell_type": "markdown",
   "metadata": {
    "heading_collapsed": "true"
   },
   "source": [
    "## Random Forest Regressor"
   ]
  },
  {
   "cell_type": "code",
   "execution_count": 12,
   "metadata": {},
   "outputs": [
    {
     "data": {
      "text/plain": [
       "{'bootstrap': True,\n",
       " 'ccp_alpha': 0.0,\n",
       " 'criterion': 'mse',\n",
       " 'max_depth': None,\n",
       " 'max_features': 'auto',\n",
       " 'max_leaf_nodes': None,\n",
       " 'max_samples': None,\n",
       " 'min_impurity_decrease': 0.0,\n",
       " 'min_impurity_split': None,\n",
       " 'min_samples_leaf': 1,\n",
       " 'min_samples_split': 2,\n",
       " 'min_weight_fraction_leaf': 0.0,\n",
       " 'n_estimators': 100,\n",
       " 'n_jobs': None,\n",
       " 'oob_score': False,\n",
       " 'random_state': None,\n",
       " 'verbose': 0,\n",
       " 'warm_start': False}"
      ]
     },
     "execution_count": 12,
     "metadata": {},
     "output_type": "execute_result"
    }
   ],
   "source": [
    "model_RF = RandomForestRegressor()\n",
    "\n",
    "# print the full list of parametrizable parameters\n",
    "model_RF.get_params(deep=True)"
   ]
  },
  {
   "cell_type": "markdown",
   "metadata": {
    "heading_collapsed": "true"
   },
   "source": [
    "### using RandomizedSearchCV\n",
    "\n",
    "GridSearchCV can be computationally expensive, especially if you are searching over a large hyperparameter space and dealing with multiple hyperparameters. A solution to this is to use RandomizedSearchCV, in which not all hyperparameter values are tried out. Instead, a fixed number of hyperparameter settings is sampled from specified probability distributions."
   ]
  },
  {
   "cell_type": "code",
   "execution_count": 13,
   "metadata": {},
   "outputs": [],
   "source": [
    "#Setup the parameters and distributions to sample from: param_dist\n",
    "\n",
    "# numers of trees\n",
    "n_estimators = [2,5,8,10]\n",
    "# max number of features to consider at every split\n",
    "max_features = ['auto', 'sqrt', 'log2']\n",
    "# max number of levels in tree\n",
    "max_depth = [5, 10, 15, 20]# 30, 40, 50]\n",
    "max_depth.append(None)\n",
    "# min number of samples required to split a node\n",
    "min_samples_split = [2,5,10,20,30]\n",
    "# min number of samples required at each leaf node\n",
    "min_samples_leaf = [1,2,5,10,15]\n",
    "\n",
    "\n",
    "param_dist = {#'bootstrap': True, \n",
    "              #'ccp_alpha': 0.0,\n",
    "              #'criterion': 'mse',\n",
    "              'n_estimators': n_estimators, \n",
    "              'max_features': max_features,\n",
    "              'max_depth':max_depth,\n",
    "              'min_samples_split':min_samples_split,\n",
    "              'min_samples_leaf':min_samples_leaf\n",
    "              #'max_leaf_nodes': None,\n",
    "              #'max_samples': None,\n",
    "              #'min_impurity_decrease': 0.0, \n",
    "              #'min_impurity_split': None, \n",
    "              #'min_weight_fraction_leaf': 0.0,           \n",
    "              #'n_jobs': None, \n",
    "              #'oob_score': False, \n",
    "              #'random_state': None,\n",
    "              #'verbose': 0, \n",
    "              #'warm_start': False\n",
    "             }"
   ]
  },
  {
   "cell_type": "code",
   "execution_count": 14,
   "metadata": {},
   "outputs": [],
   "source": [
    "# instantiate the RandomizedSearchCV object: model_cv\n",
    "model_CV1 = RandomizedSearchCV(model_RF, param_dist, cv=3)"
   ]
  },
  {
   "cell_type": "code",
   "execution_count": 15,
   "metadata": {},
   "outputs": [
    {
     "data": {
      "text/plain": [
       "RandomizedSearchCV(cv=3, estimator=RandomForestRegressor(),\n",
       "                   param_distributions={'max_depth': [5, 10, 15, 20, None],\n",
       "                                        'max_features': ['auto', 'sqrt',\n",
       "                                                         'log2'],\n",
       "                                        'min_samples_leaf': [1, 2, 5, 10, 15],\n",
       "                                        'min_samples_split': [2, 5, 10, 20, 30],\n",
       "                                        'n_estimators': [2, 5, 8, 10]})"
      ]
     },
     "execution_count": 15,
     "metadata": {},
     "output_type": "execute_result"
    }
   ],
   "source": [
    "# Fit it to the data\n",
    "model_CV1.fit(X_train,y_train.values.ravel())"
   ]
  },
  {
   "cell_type": "code",
   "execution_count": 16,
   "metadata": {},
   "outputs": [
    {
     "name": "stdout",
     "output_type": "stream",
     "text": [
      "Tuned Decision Tree Parameters: {'n_estimators': 5, 'min_samples_split': 20, 'min_samples_leaf': 15, 'max_features': 'sqrt', 'max_depth': 5}\n"
     ]
    }
   ],
   "source": [
    "# Print the tuned parameters and score\n",
    "print(\"Tuned Decision Tree Parameters: {}\".format(model_CV1.best_params_))"
   ]
  },
  {
   "cell_type": "code",
   "execution_count": 17,
   "metadata": {},
   "outputs": [
    {
     "name": "stdout",
     "output_type": "stream",
     "text": [
      "-0.08364894447276616\n"
     ]
    }
   ],
   "source": [
    "result_CV1 = cross_val_score(model_CV1, X_val, y_val.values.ravel(), cv=3, scoring='r2')\n",
    "print(result.mean())"
   ]
  },
  {
   "cell_type": "markdown",
   "metadata": {},
   "source": [
    "# Phase 4"
   ]
  },
  {
   "cell_type": "code",
   "execution_count": 50,
   "metadata": {},
   "outputs": [],
   "source": [
    "# define the model\n",
    "name = 'Gradient Boosting Regressor'\n",
    "model = gradient_search\n",
    "\n",
    "# train the model\n",
    "model_test = model.fit(X_test, y_test.values.ravel())\n",
    "\n",
    "# make predictions with the model\n",
    "model_pred = model.predict(X_test)"
   ]
  },
  {
   "cell_type": "code",
   "execution_count": 66,
   "metadata": {},
   "outputs": [
    {
     "name": "stdout",
     "output_type": "stream",
     "text": [
      "MODEL:  Gradient Boosting Regressor\n",
      "Train score: 0.238\n",
      "Validation score: 0.206\n",
      "Test score: 0.238\n",
      "R sqared (Overall model accuracy): 0.238\n",
      "RMSE (Mean Squared Error): 0.135\n",
      "-------------------------------- \n",
      "\n"
     ]
    }
   ],
   "source": [
    "# Measure\n",
    "print('MODEL: ',name)\n",
    "print('Train score: %.3f' % model.score(X_train,y_train))\n",
    "print('Validation score: %.3f' % model.score(X_val,y_val))\n",
    "print('Test score: %.3f' % model.score(X_test,y_test))\n",
    "print('R sqared (Overall model accuracy): %.3f' % r2_score(y_test,model_pred))\n",
    "print('RMSE (Mean Squared Error): %.3f' % mean_squared_error(y_test,model_pred))\n",
    "print('-------------------------------- \\n')"
   ]
  },
  {
   "cell_type": "code",
   "execution_count": 97,
   "metadata": {},
   "outputs": [
    {
     "data": {
      "image/png": "[encoded data removed]",
      "text/plain": [
       "<Figure size 432x288 with 1 Axes>"
      ]
     },
     "metadata": {
      "needs_background": "light"
     },
     "output_type": "display_data"
    }
   ],
   "source": [
    "plt.scatter(y_test, model_pred, alpha = 0.002, s=400)\n",
    "plt.xlabel('Ground Truth')\n",
    "plt.ylabel('Predictions')\n",
    "plt.show();"
   ]
  },
  {
   "cell_type": "code",
   "execution_count": 125,
   "metadata": {},
   "outputs": [
    {
     "data": {
      "image/png": "[encoded data removed]",
      "text/plain": [
       "<Figure size 432x288 with 1 Axes>"
      ]
     },
     "metadata": {
      "needs_background": "light"
     },
     "output_type": "display_data"
    }
   ],
   "source": [
    "true_val = y_test.values.ravel()\n",
    "pred_val = model_pred\n",
    "sns.stripplot(x=test, y=pred_val, data=df, jitter=True, alpha=.1, size = 5)\n",
    "sns.despine()"
   ]
  },
  {
   "cell_type": "code",
   "execution_count": 104,
   "metadata": {},
   "outputs": [
    {
     "name": "stdout",
     "output_type": "stream",
     "text": [
      "Checking the row #: 6452\n",
      "Actual value:  0\n",
      "Predicted value: 0.09\n",
      "\n",
      "Checking the row #: 27540\n",
      "Actual value:  1\n",
      "Predicted value: 0.11\n",
      "\n",
      "Checking the row #: 29128\n",
      "Actual value:  0\n",
      "Predicted value: 0.13\n",
      "\n",
      "Checking the row #: 3544\n",
      "Actual value:  1\n",
      "Predicted value: 0.30\n",
      "\n",
      "Checking the row #: 6769\n",
      "Actual value:  0\n",
      "Predicted value: 0.15\n",
      "\n",
      "Checking the row #: 28069\n",
      "Actual value:  0\n",
      "Predicted value: 0.11\n",
      "\n",
      "Checking the row #: 18607\n",
      "Actual value:  0\n",
      "Predicted value: 0.19\n",
      "\n",
      "Checking the row #: 6592\n",
      "Actual value:  0\n",
      "Predicted value: 0.08\n",
      "\n",
      "Checking the row #: 13225\n",
      "Actual value:  0\n",
      "Predicted value: 0.13\n",
      "\n",
      "Checking the row #: 19948\n",
      "Actual value:  0\n",
      "Predicted value: 0.05\n",
      "\n"
     ]
    }
   ],
   "source": [
    "import random\n",
    "\n",
    "for a in range(10):\n",
    "    a = random.randint(0, len(X))\n",
    "    print('Checking the row #:', a)\n",
    "    print('Actual value: ', y['Y_default'][a])\n",
    "    print('Predicted value: %.2f' % model.predict(X)[a])\n",
    "    print('')"
   ]
  },
  {
   "cell_type": "markdown",
   "metadata": {},
   "source": [
    "# try to improve values"
   ]
  },
  {
   "cell_type": "markdown",
   "metadata": {},
   "source": [
    "## some new pre-processing"
   ]
  },
  {
   "cell_type": "code",
   "execution_count": 132,
   "metadata": {},
   "outputs": [
    {
     "data": {
      "image/png": "[encoded data removed]",
      "text/plain": [
       "<Figure size 1080x576 with 2 Axes>"
      ]
     },
     "metadata": {
      "needs_background": "light"
     },
     "output_type": "display_data"
    }
   ],
   "source": [
    "plt.figure(figsize=(15,8))\n",
    "sns.heatmap(df.corr(),cmap=plt.cm.Reds,annot=True)\n",
    "\n",
    "plt.title('Heatmap displaying the relationship between\\nthe features of the data', fontsize=13)\n",
    "plt.show()"
   ]
  },
  {
   "cell_type": "markdown",
   "metadata": {},
   "source": [
    "Looking at the above correlation heatmap,we can conclude that:\n",
    "* We can see that there is a relationship between the **Y_Default** variable and the other variables.\n",
    "* there is a negative correlation between limit_bal and PAY_x\n",
    "* **ID and Unnamed** are really strong correlated between themselves, and are useless features (Created while saving the df to CSV).\n",
    "* **PAY_0,2,3,4,5,6 have a strong positive correlations between themselves and this violates the non-multi collinearity assumption of Linear regression.** Multi-collinearity hinders the performance and accuracy of our regression model. To avoid this, we have to get rid of some of these variables by doing feature selection.\n",
    "* The other variables are not highly correlated with each other. "
   ]
  },
  {
   "cell_type": "markdown",
   "metadata": {},
   "source": [
    "## Variance Inflation factor\n",
    "\n",
    "Another way of checking the **multi-collinearity** is by using the **variance inflation factor.** \n",
    "\n",
    "-> If a variable has a **variance inflation factor greater than 5,then it is associated with multi-collinearity**. We will use the variance_inflation_factor() of statsmodels to perform this task and the code is as shown below."
   ]
  },
  {
   "cell_type": "code",
   "execution_count": 135,
   "metadata": {},
   "outputs": [
    {
     "name": "stdout",
     "output_type": "stream",
     "text": [
      "Series before feature selection: \n",
      "\n",
      "const            151.650797\n",
      "Unnamed: 0    279301.533324\n",
      "ID            279301.245631\n",
      "LIMIT_BAL          1.227504\n",
      "PAY_0              1.980336\n",
      "PAY_2              3.118589\n",
      "PAY_3              3.635380\n",
      "PAY_4              4.278324\n",
      "PAY_5              4.701483\n",
      "PAY_6              3.175075\n",
      "PAY_AMT1           1.185763\n",
      "PAY_AMT2           1.163856\n",
      "PAY_AMT3           1.177816\n",
      "PAY_AMT4           1.127904\n",
      "Y_default          1.130439\n",
      "dtype: float64\n",
      "\n"
     ]
    }
   ],
   "source": [
    "import statsmodels as sm\n",
    "from statsmodels.stats.outliers_influence import variance_inflation_factor\n",
    "\n",
    "X1 = sm.tools.add_constant(df)\n",
    "\n",
    "# calculate the VIF and make the results a series.\n",
    "series1 = pd.Series([variance_inflation_factor(X1.values,i) for i in range(X1.shape[1])],index=X1.columns)\n",
    "\n",
    "print('Series before feature selection: \\n\\n{}\\n'.format(series1))"
   ]
  },
  {
   "cell_type": "markdown",
   "metadata": {},
   "source": [
    "We can see that there is a problem of multi-collinearity in our data since some of the variables have a variance inflation factor greater than 5.\n",
    "\n",
    "And we can also see clearly that the **Unnamed and ID features** have a strong positive correlations between themselves and they are the cause of the multi-collinearity as shown in the correlation heatmap above.\n",
    "\n",
    "To avoid this, we take out those features from our data and compute the variance inflation factors of the remaining variables and check if multi-collinearity still exists."
   ]
  },
  {
   "cell_type": "code",
   "execution_count": 137,
   "metadata": {},
   "outputs": [
    {
     "name": "stdout",
     "output_type": "stream",
     "text": [
      "Series after feature selection: \n",
      "\n",
      "const        3.288800\n",
      "LIMIT_BAL    1.227273\n",
      "PAY_0        1.978932\n",
      "PAY_2        3.117158\n",
      "PAY_3        3.633671\n",
      "PAY_4        4.270925\n",
      "PAY_5        4.697614\n",
      "PAY_6        3.174885\n",
      "PAY_AMT1     1.185745\n",
      "PAY_AMT2     1.163746\n",
      "PAY_AMT3     1.175970\n",
      "PAY_AMT4     1.127799\n",
      "Y_default    1.130429\n",
      "dtype: float64\n"
     ]
    }
   ],
   "source": [
    "# Let's drop the columns that highly correlate with each other\n",
    "newdf = df.drop(['Unnamed: 0','ID'],axis=1)\n",
    "\n",
    "# Let's do the variance inflation factor method again after doing a feature selection to see if there's still multi-collinearity.\n",
    "X2 = sm.tools.add_constant(newdf)\n",
    "series2 = pd.Series([variance_inflation_factor(X2.values,i) for i in range(X2.shape[1])],index=X2.columns)\n",
    "print('Series after feature selection: \\n\\n{}'.format(series2))"
   ]
  },
  {
   "cell_type": "markdown",
   "metadata": {},
   "source": [
    "Great!, we have gotten rid of the multi-collinearity as the remaining variables have a variance inflation factor less than 5."
   ]
  },
  {
   "cell_type": "markdown",
   "metadata": {},
   "source": [
    "## check correlation\n",
    "\n",
    "In the heatmap we can see that Y_default has a good positive correlation with PAY_x, this is good. But also those values are highly correlated with themselves, this is not so good. the next lines will try to improve the data fed to models by:\n",
    "* removing some/any/all of the PAY_x that are high correlated variables with themselves.\n",
    "* keeping only the features highly correlated with the outcome. "
   ]
  },
  {
   "cell_type": "code",
   "execution_count": 176,
   "metadata": {},
   "outputs": [
    {
     "name": "stdout",
     "output_type": "stream",
     "text": [
      "LIMIT_BAL -0.15351987639350761\n",
      "PAY_0 0.32479372847862187\n",
      "PAY_2 0.26355120167216484\n",
      "PAY_3 0.2352525137249157\n",
      "PAY_4 0.21661363684242427\n",
      "PAY_5 0.2041489138761662\n",
      "PAY_6 0.1868663616535452\n",
      "PAY_AMT1 -0.07292948777785141\n",
      "PAY_AMT2 -0.05857870658290087\n",
      "PAY_AMT3 -0.056250350990331134\n",
      "PAY_AMT4 -0.05682740089288763\n",
      "Y_default 1.0\n"
     ]
    }
   ],
   "source": [
    "for i in newdf.columns: print(i, newdf['Y_default'].corr(newdf[i]))"
   ]
  },
  {
   "cell_type": "markdown",
   "metadata": {
    "heading_collapsed": "true"
   },
   "source": [
    "## Linear Regression\n",
    "\n",
    "This is the part where we start training the regression models we imported earlier.Here, we do not train only one model.But we train as many models as we can as model accuracy is what were after.We want to end up with the model that predicts well and gives minimum error.We will split our dataset into two parts.ie. training data and testing data using the train_test_split() function of sklearn.model_selection.Since the variables are not of the same scale,we will scale them using the preprocessing.scale() function from sklearn.Scaling the variables is only necessary for the linear,ridge and lasso regression models as these models penalize coefficients.After scaling the feature or predictor variables,we will therefore go ahead to fit our LinearRegression model on the data and assess the model to see how accurate it is.\n"
   ]
  },
  {
   "cell_type": "code",
   "execution_count": 150,
   "metadata": {},
   "outputs": [],
   "source": [
    "# create a DataFrame of independent variables\n",
    "X = newdf.drop('Y_default',axis=1)\n",
    "\n",
    "# create a series of the dependent variable\n",
    "y = newdf['Y_default']   \n",
    "\n",
    "# scaling the feature variables.\n",
    "X_scaled = preprocessing.scale(X)\n",
    "\n",
    "# preprocessing.scale() returns a 2-d array not a DataFrame so we make our scaled variables\n",
    "# a DataFrame.\n",
    "X_scaled = pd.DataFrame(X_scaled,columns=X.columns)\n",
    "\n",
    "# split our data into training and testing data\n",
    "X_train,X_test,y_train,y_test = train_test_split(X_scaled,y,test_size=.3,random_state=0)\n",
    "\n",
    "name = 'Linear Regression'\n",
    "model = LinearRegression()  # initialize the LinearRegression model\n",
    "model.fit(X_train,y_train)  # we fit the model with the training data\n",
    "\n",
    "linear_pred = model.predict(X_test)  # make prediction with the fitted model"
   ]
  },
  {
   "cell_type": "code",
   "execution_count": 151,
   "metadata": {},
   "outputs": [
    {
     "name": "stdout",
     "output_type": "stream",
     "text": [
      "MODEL:  Linear Regression\n",
      "Train score: 0.113\n",
      "Validation score: 0.118\n",
      "R sqared (Overall model accuracy): 0.118\n",
      "RMSE (Mean Squared Error): 0.149\n"
     ]
    }
   ],
   "source": [
    "    # print results\n",
    "print('MODEL: ',name)\n",
    "print('Train score: %.3f' % model.score(X_train,y_train))\n",
    "print('Validation score: %.3f' % model.score(X_test,y_test))\n",
    "print('R sqared (Overall model accuracy): %.3f' % r2_score(y_test,linear_pred))\n",
    "print('RMSE (Mean Squared Error): %.3f' % mean_squared_error(y_test,linear_pred))\n"
   ]
  },
  {
   "cell_type": "markdown",
   "metadata": {
    "heading_collapsed": "true"
   },
   "source": [
    "## Ridge"
   ]
  },
  {
   "cell_type": "code",
   "execution_count": 155,
   "metadata": {},
   "outputs": [],
   "source": [
    "# let's fit a ridge regression model and see if we can get a higher accuracy\n",
    "name = 'Ridge'\n",
    "ridge = Ridge(alpha=.01)\n",
    "ridge.fit(X_train,y_train)  # fit the model with the training data\n",
    "\n",
    "ridge_pred = ridge.predict(X_test)  # make predictions"
   ]
  },
  {
   "cell_type": "code",
   "execution_count": 156,
   "metadata": {},
   "outputs": [
    {
     "name": "stdout",
     "output_type": "stream",
     "text": [
      "MODEL:  Ridge\n",
      "Train score: 0.113\n",
      "Validation score: 0.118\n",
      "R sqared (Overall model accuracy): 0.118\n",
      "RMSE (Mean Squared Error): 0.149\n"
     ]
    }
   ],
   "source": [
    "    # print results\n",
    "print('MODEL: ',name)\n",
    "print('Train score: %.3f' % model.score(X_train,y_train))\n",
    "print('Validation score: %.3f' % model.score(X_test,y_test))\n",
    "print('R sqared (Overall model accuracy): %.3f' % r2_score(y_test,linear_pred))\n",
    "print('RMSE (Mean Squared Error): %.3f' % mean_squared_error(y_test,linear_pred))"
   ]
  },
  {
   "cell_type": "markdown",
   "metadata": {},
   "source": [
    "Looks like the Ridge model is no different from the LinearRegression model we first fit.Let’s try to tune the hyper parameters to see if we can make a significant change in the accuracy and minimize the MSE.In doing this,we will perform a grid search cross validation to search for the best parameters using the GridSearchCV() function from sklearn.model_selection"
   ]
  },
  {
   "cell_type": "code",
   "execution_count": 159,
   "metadata": {},
   "outputs": [
    {
     "data": {
      "text/plain": [
       "GridSearchCV(cv=5, estimator=Ridge(), n_jobs=-1,\n",
       "             param_grid={'alpha': [0, 0.1, 0.01, 0.001, 1]})"
      ]
     },
     "execution_count": 159,
     "metadata": {},
     "output_type": "execute_result"
    }
   ],
   "source": [
    "# we now try to tune the parameters of the ridge model for a better accuracy\n",
    "# we use a grid search to find the best parameters for the ridge model\n",
    "name = 'Ridge Tuned'\n",
    "ridge_model = Ridge()\n",
    "\n",
    "param = {'alpha':[0,0.1,0.01,0.001,1]}  # define the parameters\n",
    "\n",
    "# initialize the grid search\n",
    "ridge_search = GridSearchCV(ridge_model,param,cv=5,n_jobs=-1)\n",
    "\n",
    "ridge_search.fit(X_train,y_train)   # fit the model "
   ]
  },
  {
   "cell_type": "code",
   "execution_count": 160,
   "metadata": {},
   "outputs": [
    {
     "name": "stdout",
     "output_type": "stream",
     "text": [
      "MODEL:  Ridge Tuned\n",
      "Train score: 0.113\n",
      "Validation score: 0.118\n",
      "R sqared (Overall model accuracy): 0.118\n",
      "RMSE (Mean Squared Error): 0.149\n"
     ]
    }
   ],
   "source": [
    "    # print results\n",
    "print('MODEL: ',name)\n",
    "print('Train score: %.3f' % model.score(X_train,y_train))\n",
    "print('Validation score: %.3f' % model.score(X_test,y_test))\n",
    "print('R sqared (Overall model accuracy): %.3f' % r2_score(y_test,linear_pred))\n",
    "print('RMSE (Mean Squared Error): %.3f' % mean_squared_error(y_test,linear_pred))"
   ]
  },
  {
   "cell_type": "markdown",
   "metadata": {
    "heading_collapsed": "true"
   },
   "source": [
    "## Phase 0.1"
   ]
  },
  {
   "cell_type": "code",
   "execution_count": 140,
   "metadata": {},
   "outputs": [
    {
     "data": {
      "text/html": [
       "<div>\n",
       "<style scoped>\n",
       "    .dataframe tbody tr th:only-of-type {\n",
       "        vertical-align: middle;\n",
       "    }\n",
       "\n",
       "    .dataframe tbody tr th {\n",
       "        vertical-align: top;\n",
       "    }\n",
       "\n",
       "    .dataframe thead th {\n",
       "        text-align: right;\n",
       "    }\n",
       "</style>\n",
       "<table border=\"1\" class=\"dataframe\">\n",
       "  <thead>\n",
       "    <tr style=\"text-align: right;\">\n",
       "      <th></th>\n",
       "      <th>LIMIT_BAL</th>\n",
       "      <th>PAY_0</th>\n",
       "      <th>PAY_2</th>\n",
       "      <th>PAY_3</th>\n",
       "      <th>PAY_4</th>\n",
       "      <th>PAY_5</th>\n",
       "      <th>PAY_6</th>\n",
       "      <th>PAY_AMT1</th>\n",
       "      <th>PAY_AMT2</th>\n",
       "      <th>PAY_AMT3</th>\n",
       "      <th>PAY_AMT4</th>\n",
       "      <th>Y_default</th>\n",
       "    </tr>\n",
       "  </thead>\n",
       "  <tbody>\n",
       "    <tr>\n",
       "      <th>0</th>\n",
       "      <td>20000.0</td>\n",
       "      <td>2.0</td>\n",
       "      <td>2.0</td>\n",
       "      <td>-1.0</td>\n",
       "      <td>-1.0</td>\n",
       "      <td>-2.0</td>\n",
       "      <td>-2.0</td>\n",
       "      <td>0.0</td>\n",
       "      <td>689.0</td>\n",
       "      <td>0.0</td>\n",
       "      <td>0.0</td>\n",
       "      <td>1</td>\n",
       "    </tr>\n",
       "    <tr>\n",
       "      <th>1</th>\n",
       "      <td>120000.0</td>\n",
       "      <td>-1.0</td>\n",
       "      <td>2.0</td>\n",
       "      <td>0.0</td>\n",
       "      <td>0.0</td>\n",
       "      <td>0.0</td>\n",
       "      <td>2.0</td>\n",
       "      <td>0.0</td>\n",
       "      <td>1000.0</td>\n",
       "      <td>1000.0</td>\n",
       "      <td>1000.0</td>\n",
       "      <td>1</td>\n",
       "    </tr>\n",
       "    <tr>\n",
       "      <th>2</th>\n",
       "      <td>90000.0</td>\n",
       "      <td>0.0</td>\n",
       "      <td>0.0</td>\n",
       "      <td>0.0</td>\n",
       "      <td>0.0</td>\n",
       "      <td>0.0</td>\n",
       "      <td>0.0</td>\n",
       "      <td>1518.0</td>\n",
       "      <td>1500.0</td>\n",
       "      <td>1000.0</td>\n",
       "      <td>1000.0</td>\n",
       "      <td>0</td>\n",
       "    </tr>\n",
       "    <tr>\n",
       "      <th>3</th>\n",
       "      <td>50000.0</td>\n",
       "      <td>0.0</td>\n",
       "      <td>0.0</td>\n",
       "      <td>0.0</td>\n",
       "      <td>0.0</td>\n",
       "      <td>0.0</td>\n",
       "      <td>0.0</td>\n",
       "      <td>2000.0</td>\n",
       "      <td>2019.0</td>\n",
       "      <td>1200.0</td>\n",
       "      <td>1100.0</td>\n",
       "      <td>0</td>\n",
       "    </tr>\n",
       "    <tr>\n",
       "      <th>4</th>\n",
       "      <td>50000.0</td>\n",
       "      <td>-1.0</td>\n",
       "      <td>0.0</td>\n",
       "      <td>-1.0</td>\n",
       "      <td>0.0</td>\n",
       "      <td>0.0</td>\n",
       "      <td>0.0</td>\n",
       "      <td>2000.0</td>\n",
       "      <td>36681.0</td>\n",
       "      <td>10000.0</td>\n",
       "      <td>9000.0</td>\n",
       "      <td>0</td>\n",
       "    </tr>\n",
       "  </tbody>\n",
       "</table>\n",
       "</div>"
      ],
      "text/plain": [
       "   LIMIT_BAL  PAY_0  PAY_2  PAY_3  PAY_4  PAY_5  PAY_6  PAY_AMT1  PAY_AMT2  \\\n",
       "0    20000.0    2.0    2.0   -1.0   -1.0   -2.0   -2.0       0.0     689.0   \n",
       "1   120000.0   -1.0    2.0    0.0    0.0    0.0    2.0       0.0    1000.0   \n",
       "2    90000.0    0.0    0.0    0.0    0.0    0.0    0.0    1518.0    1500.0   \n",
       "3    50000.0    0.0    0.0    0.0    0.0    0.0    0.0    2000.0    2019.0   \n",
       "4    50000.0   -1.0    0.0   -1.0    0.0    0.0    0.0    2000.0   36681.0   \n",
       "\n",
       "   PAY_AMT3  PAY_AMT4  Y_default  \n",
       "0       0.0       0.0          1  \n",
       "1    1000.0    1000.0          1  \n",
       "2    1000.0    1000.0          0  \n",
       "3    1200.0    1100.0          0  \n",
       "4   10000.0    9000.0          0  "
      ]
     },
     "execution_count": 140,
     "metadata": {},
     "output_type": "execute_result"
    }
   ],
   "source": [
    "y = newdf[['Y_default']]\n",
    "X = newdf.drop('Y_default', axis=1)\n",
    "newdf.head()"
   ]
  },
  {
   "cell_type": "code",
   "execution_count": 141,
   "metadata": {},
   "outputs": [
    {
     "name": "stdout",
     "output_type": "stream",
     "text": [
      "DF:  (30000, 12)\n",
      "X:       (30000, 11) y:       (30000, 1)\n",
      "X_Train: (22500, 11) y_Train: (22500, 1)\n",
      "X_Valid: (4500, 11)  y_Valid: (4500, 1)\n",
      "X_Test:  (3000, 11)  y_Test:  (3000, 1)\n"
     ]
    }
   ],
   "source": [
    "train_ratio = 0.75\n",
    "validation_ratio = 0.15\n",
    "test_ratio = 0.10\n",
    "\n",
    "# train is now <train_ratio> % of the entire data set the _junk suffix means that we drop that variable completely\n",
    "X_train, X_test, y_train, y_test = train_test_split(X, y, test_size=(1-train_ratio) )\n",
    "\n",
    "# test is now <test_ratio> % of the initial data set\n",
    "# validation is now <validation_ratio> % of the initial data set\n",
    "X_val, X_test, y_val, y_test = train_test_split(X_test, y_test, test_size=test_ratio/(test_ratio + validation_ratio)) \n",
    "\n",
    "print('DF: ', newdf.shape)\n",
    "print('X:      ', X.shape, 'y:      ', y.shape)\n",
    "print('X_Train:', X_train.shape,'y_Train:', y_train.shape)\n",
    "print('X_Valid:', X_val.shape, ' y_Valid:', y_val.shape)\n",
    "print('X_Test: ', X_test.shape,' y_Test: ', y_test.shape)"
   ]
  },
  {
   "cell_type": "markdown",
   "metadata": {
    "heading_collapsed": "true"
   },
   "source": [
    "## Phase 1.1"
   ]
  },
  {
   "cell_type": "code",
   "execution_count": 143,
   "metadata": {},
   "outputs": [
    {
     "name": "stdout",
     "output_type": "stream",
     "text": [
      "MODEL:  Random Forest Regressor\n",
      "Train score: 0.835\n",
      "Validation score: 0.158\n",
      "R sqared (Overall model accuracy): 0.152\n",
      "RMSE (Mean Squared Error): 0.143\n",
      "-------------------------------- \n",
      "\n",
      "MODEL:  Linear Regression\n",
      "Train score: 0.114\n",
      "Validation score: 0.118\n",
      "R sqared (Overall model accuracy): 0.114\n",
      "RMSE (Mean Squared Error): 0.149\n",
      "-------------------------------- \n",
      "\n",
      "MODEL:  Suport Vector Regression\n",
      "Train score: -0.087\n",
      "Validation score: -0.078\n",
      "R sqared (Overall model accuracy): -0.077\n",
      "RMSE (Mean Squared Error): 0.181\n",
      "-------------------------------- \n",
      "\n",
      "MODEL:  Logistic Regression\n",
      "Train score: 0.776\n",
      "Validation score: 0.785\n",
      "R sqared (Overall model accuracy): -0.272\n",
      "RMSE (Mean Squared Error): 0.214\n",
      "-------------------------------- \n",
      "\n",
      "MODEL:  k-NN\n",
      "Train score: 0.812\n",
      "Validation score: 0.757\n",
      "R sqared (Overall model accuracy): -0.409\n",
      "RMSE (Mean Squared Error): 0.237\n",
      "-------------------------------- \n",
      "\n",
      "MODEL:  Gradient Boosting Regressor\n",
      "Train score: 0.240\n",
      "Validation score: 0.224\n",
      "R sqared (Overall model accuracy): 0.210\n",
      "RMSE (Mean Squared Error): 0.133\n",
      "-------------------------------- \n",
      "\n",
      "MODEL:  Desicion Tree Regressor\n",
      "Train score: 0.943\n",
      "Validation score: -0.576\n",
      "R sqared (Overall model accuracy): -0.595\n",
      "RMSE (Mean Squared Error): 0.268\n",
      "-------------------------------- \n",
      "\n"
     ]
    }
   ],
   "source": [
    "models=[]\n",
    "performance=[]\n",
    "\n",
    "for name, model in algo_Candidates:\n",
    "    # train the model\n",
    "    model = model.fit(X_train, y_train.values.ravel())\n",
    "    \n",
    "    # Get predictions and performance\n",
    "    predictions = model.predict(X_val)\n",
    "    \n",
    "    # print results\n",
    "    print('MODEL: ',name)\n",
    "    print('Train score: %.3f' % model.score(X_train,y_train))\n",
    "    print('Validation score: %.3f' % model.score(X_test,y_test))\n",
    "    print('R sqared (Overall model accuracy): %.3f' % r2_score(y_val,predictions))\n",
    "    print('RMSE (Mean Squared Error): %.3f' % mean_squared_error(y_val,predictions))\n",
    "    print('-------------------------------- \\n')\n",
    "       \n",
    "    # save the models into a list of tuples\n",
    "    models.append((name,model))"
   ]
  }
 ],
 "metadata": {
  "kernelspec": {
   "display_name": "Python 3",
   "language": "python",
   "name": "python3"
  },
  "language_info": {
   "codemirror_mode": {
    "name": "ipython",
    "version": 3
   },
   "file_extension": ".py",
   "mimetype": "text/x-python",
   "name": "python",
   "nbconvert_exporter": "python",
   "pygments_lexer": "ipython3",
   "version": "3.8.5"
  }
 },
 "nbformat": 4,
 "nbformat_minor": 4
}
