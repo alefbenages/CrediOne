{
 "cells": [
  {
   "cell_type": "markdown",
   "metadata": {},
   "source": [
    "# Libraries"
   ]
  },
  {
   "cell_type": "code",
   "execution_count": 107,
   "metadata": {},
   "outputs": [],
   "source": [
    "# basics\n",
    "import pandas as pd\n",
    "import numpy as np\n",
    "import matplotlib.pyplot as plt\n",
    "from math import sqrt\n",
    "import seaborn as sns\n",
    "\n",
    "\n",
    "# estimators\n",
    "from sklearn.neighbors import KNeighborsClassifier\n",
    "from sklearn.ensemble import RandomForestRegressor\n",
    "from sklearn.ensemble import GradientBoostingRegressor\n",
    "from sklearn.linear_model import LinearRegression\n",
    "from sklearn.svm import SVR\n",
    "from sklearn.linear_model import LogisticRegression\n",
    "from sklearn.tree import DecisionTreeRegressor\n",
    "\n",
    "\n",
    "# tools\n",
    "from sklearn.model_selection import train_test_split\n",
    "\n",
    "#model metrics\n",
    "from sklearn.metrics import mean_squared_error\n",
    "from sklearn.metrics import r2_score\n",
    "from sklearn.model_selection import cross_val_score\n",
    "\n",
    "#Hyper parameter tuning\n",
    "from sklearn.model_selection import RandomizedSearchCV "
   ]
  },
  {
   "cell_type": "markdown",
   "metadata": {},
   "source": [
    "# Import Data"
   ]
  },
  {
   "cell_type": "code",
   "execution_count": 2,
   "metadata": {},
   "outputs": [
    {
     "data": {
      "text/html": [
       "<div>\n",
       "<style scoped>\n",
       "    .dataframe tbody tr th:only-of-type {\n",
       "        vertical-align: middle;\n",
       "    }\n",
       "\n",
       "    .dataframe tbody tr th {\n",
       "        vertical-align: top;\n",
       "    }\n",
       "\n",
       "    .dataframe thead th {\n",
       "        text-align: right;\n",
       "    }\n",
       "</style>\n",
       "<table border=\"1\" class=\"dataframe\">\n",
       "  <thead>\n",
       "    <tr style=\"text-align: right;\">\n",
       "      <th></th>\n",
       "      <th>Unnamed: 0</th>\n",
       "      <th>ID</th>\n",
       "      <th>LIMIT_BAL</th>\n",
       "      <th>PAY_0</th>\n",
       "      <th>PAY_2</th>\n",
       "      <th>PAY_3</th>\n",
       "      <th>PAY_4</th>\n",
       "      <th>PAY_5</th>\n",
       "      <th>PAY_6</th>\n",
       "      <th>PAY_AMT1</th>\n",
       "      <th>PAY_AMT2</th>\n",
       "      <th>PAY_AMT3</th>\n",
       "      <th>PAY_AMT4</th>\n",
       "      <th>Y_default</th>\n",
       "    </tr>\n",
       "  </thead>\n",
       "  <tbody>\n",
       "    <tr>\n",
       "      <th>0</th>\n",
       "      <td>1</td>\n",
       "      <td>1</td>\n",
       "      <td>20000.0</td>\n",
       "      <td>2.0</td>\n",
       "      <td>2.0</td>\n",
       "      <td>-1.0</td>\n",
       "      <td>-1.0</td>\n",
       "      <td>-2.0</td>\n",
       "      <td>-2.0</td>\n",
       "      <td>0.0</td>\n",
       "      <td>689.0</td>\n",
       "      <td>0.0</td>\n",
       "      <td>0.0</td>\n",
       "      <td>1</td>\n",
       "    </tr>\n",
       "    <tr>\n",
       "      <th>1</th>\n",
       "      <td>2</td>\n",
       "      <td>2</td>\n",
       "      <td>120000.0</td>\n",
       "      <td>-1.0</td>\n",
       "      <td>2.0</td>\n",
       "      <td>0.0</td>\n",
       "      <td>0.0</td>\n",
       "      <td>0.0</td>\n",
       "      <td>2.0</td>\n",
       "      <td>0.0</td>\n",
       "      <td>1000.0</td>\n",
       "      <td>1000.0</td>\n",
       "      <td>1000.0</td>\n",
       "      <td>1</td>\n",
       "    </tr>\n",
       "    <tr>\n",
       "      <th>2</th>\n",
       "      <td>3</td>\n",
       "      <td>3</td>\n",
       "      <td>90000.0</td>\n",
       "      <td>0.0</td>\n",
       "      <td>0.0</td>\n",
       "      <td>0.0</td>\n",
       "      <td>0.0</td>\n",
       "      <td>0.0</td>\n",
       "      <td>0.0</td>\n",
       "      <td>1518.0</td>\n",
       "      <td>1500.0</td>\n",
       "      <td>1000.0</td>\n",
       "      <td>1000.0</td>\n",
       "      <td>0</td>\n",
       "    </tr>\n",
       "    <tr>\n",
       "      <th>3</th>\n",
       "      <td>4</td>\n",
       "      <td>4</td>\n",
       "      <td>50000.0</td>\n",
       "      <td>0.0</td>\n",
       "      <td>0.0</td>\n",
       "      <td>0.0</td>\n",
       "      <td>0.0</td>\n",
       "      <td>0.0</td>\n",
       "      <td>0.0</td>\n",
       "      <td>2000.0</td>\n",
       "      <td>2019.0</td>\n",
       "      <td>1200.0</td>\n",
       "      <td>1100.0</td>\n",
       "      <td>0</td>\n",
       "    </tr>\n",
       "    <tr>\n",
       "      <th>4</th>\n",
       "      <td>5</td>\n",
       "      <td>5</td>\n",
       "      <td>50000.0</td>\n",
       "      <td>-1.0</td>\n",
       "      <td>0.0</td>\n",
       "      <td>-1.0</td>\n",
       "      <td>0.0</td>\n",
       "      <td>0.0</td>\n",
       "      <td>0.0</td>\n",
       "      <td>2000.0</td>\n",
       "      <td>36681.0</td>\n",
       "      <td>10000.0</td>\n",
       "      <td>9000.0</td>\n",
       "      <td>0</td>\n",
       "    </tr>\n",
       "  </tbody>\n",
       "</table>\n",
       "</div>"
      ],
      "text/plain": [
       "   Unnamed: 0  ID  LIMIT_BAL  PAY_0  PAY_2  PAY_3  PAY_4  PAY_5  PAY_6  \\\n",
       "0           1   1    20000.0    2.0    2.0   -1.0   -1.0   -2.0   -2.0   \n",
       "1           2   2   120000.0   -1.0    2.0    0.0    0.0    0.0    2.0   \n",
       "2           3   3    90000.0    0.0    0.0    0.0    0.0    0.0    0.0   \n",
       "3           4   4    50000.0    0.0    0.0    0.0    0.0    0.0    0.0   \n",
       "4           5   5    50000.0   -1.0    0.0   -1.0    0.0    0.0    0.0   \n",
       "\n",
       "   PAY_AMT1  PAY_AMT2  PAY_AMT3  PAY_AMT4  Y_default  \n",
       "0       0.0     689.0       0.0       0.0          1  \n",
       "1       0.0    1000.0    1000.0    1000.0          1  \n",
       "2    1518.0    1500.0    1000.0    1000.0          0  \n",
       "3    2000.0    2019.0    1200.0    1100.0          0  \n",
       "4    2000.0   36681.0   10000.0    9000.0          0  "
      ]
     },
     "execution_count": 2,
     "metadata": {},
     "output_type": "execute_result"
    }
   ],
   "source": [
    "# import claned and pre-procesed data\n",
    "df = pd.read_csv('DF_M2T2_Light.csv')\n",
    "df.head()"
   ]
  },
  {
   "cell_type": "markdown",
   "metadata": {},
   "source": [
    "## Define the features and Dependent Values"
   ]
  },
  {
   "cell_type": "code",
   "execution_count": 98,
   "metadata": {},
   "outputs": [],
   "source": [
    "y = df[['Y_default']]\n",
    "X = df.drop('Y_default', axis=1)"
   ]
  },
  {
   "cell_type": "markdown",
   "metadata": {},
   "source": [
    "# Phase 0 >> Divide data into: Train - Validation - Test\n",
    "\n",
    "Split data into: train, validation and test sets, or just train and test (depending on the function you will use)."
   ]
  },
  {
   "cell_type": "code",
   "execution_count": 6,
   "metadata": {},
   "outputs": [
    {
     "name": "stdout",
     "output_type": "stream",
     "text": [
      "DF:  (30000, 14)\n",
      "X:       (30000, 13) y:       (30000, 1)\n",
      "X_Train: (22500, 13) y_Train: (22500, 1)\n",
      "X_Valid: (4500, 13)  y_Valid: (4500, 1)\n",
      "X_Test:  (3000, 13)  y_Test:  (3000, 1)\n"
     ]
    }
   ],
   "source": [
    "train_ratio = 0.75\n",
    "validation_ratio = 0.15\n",
    "test_ratio = 0.10\n",
    "\n",
    "# train is now <train_ratio> % of the entire data set the _junk suffix means that we drop that variable completely\n",
    "X_train, X_test, y_train, y_test = train_test_split(X, y, test_size=(1-train_ratio) )\n",
    "\n",
    "# test is now <test_ratio> % of the initial data set\n",
    "# validation is now <validation_ratio> % of the initial data set\n",
    "X_val, X_test, y_val, y_test = train_test_split(X_test, y_test, test_size=test_ratio/(test_ratio + validation_ratio)) \n",
    "\n",
    "print('DF: ', df.shape)\n",
    "print('X:      ', X.shape, 'y:      ', y.shape)\n",
    "print('X_Train:', X_train.shape,'y_Train:', y_train.shape)\n",
    "print('X_Valid:', X_val.shape, ' y_Valid:', y_val.shape)\n",
    "print('X_Test: ', X_test.shape,' y_Test: ', y_test.shape)"
   ]
  },
  {
   "cell_type": "markdown",
   "metadata": {},
   "source": [
    "# Phase 1\n",
    "\n",
    "Train the model on the training set and get the first performance measures on the validation set."
   ]
  },
  {
   "cell_type": "code",
   "execution_count": 34,
   "metadata": {},
   "outputs": [],
   "source": [
    "# list of possible candidates\n",
    "algo_Candidates = []\n",
    "\n",
    "algo_Candidates.append(('Random Forest Regressor', RandomForestRegressor()))\n",
    "algo_Candidates.append(('Linear Regression', LinearRegression()))\n",
    "algo_Candidates.append(('Suport Vector Regression', SVR()))\n",
    "algo_Candidates.append(('Logistic Regression', LogisticRegression()))\n",
    "algo_Candidates.append(('k-NN', KNeighborsClassifier()))\n",
    "algo_Candidates.append(('Gradient Boosting Regressor', GradientBoostingRegressor()))\n",
    "algo_Candidates.append(('Desicion Tree Regressor', DecisionTreeRegressor()))"
   ]
  },
  {
   "cell_type": "code",
   "execution_count": 36,
   "metadata": {},
   "outputs": [
    {
     "name": "stdout",
     "output_type": "stream",
     "text": [
      "MODEL:  Random Forest Regressor\n",
      "Train score: 0.8826002198650864\n",
      "Validation score: 0.1902216843149238\n",
      "R sqared (Overall model accuracy): 0.17209411428571442\n",
      "RMSE (Mean Squared Error): 0.14309484444444442\n",
      "-------------------------------- \n",
      "\n",
      "MODEL:  Linear Regression\n",
      "Train score: 0.11490770771258962\n",
      "Validation score: 0.12589114584674954\n",
      "R sqared (Overall model accuracy): 0.10735447337837256\n",
      "RMSE (Mean Squared Error): 0.15428441200867635\n",
      "-------------------------------- \n",
      "\n",
      "MODEL:  Suport Vector Regression\n",
      "Train score: -0.08331861633239535\n",
      "Validation score: -0.09653986963076666\n",
      "R sqared (Overall model accuracy): -0.08669260685055491\n",
      "RMSE (Mean Squared Error): 0.18782341352972554\n",
      "-------------------------------- \n",
      "\n",
      "MODEL:  Logistic Regression\n",
      "Train score: 0.7802666666666667\n",
      "Validation score: 0.7693333333333333\n",
      "R sqared (Overall model accuracy): -0.2857142857142856\n",
      "RMSE (Mean Squared Error): 0.2222222222222222\n",
      "-------------------------------- \n",
      "\n",
      "MODEL:  k-NN\n",
      "Train score: 0.8097333333333333\n",
      "Validation score: 0.7476666666666667\n",
      "R sqared (Overall model accuracy): -0.4772857142857141\n",
      "RMSE (Mean Squared Error): 0.25533333333333336\n",
      "-------------------------------- \n",
      "\n",
      "MODEL:  Gradient Boosting Regressor\n",
      "Train score: 0.23957304011965064\n",
      "Validation score: 0.2248193684417863\n",
      "R sqared (Overall model accuracy): 0.21163869717215267\n",
      "RMSE (Mean Squared Error): 0.13625997826654151\n",
      "-------------------------------- \n",
      "\n",
      "MODEL:  Desicion Tree Regressor\n",
      "Train score: 1.0\n",
      "Validation score: -0.5402570601376462\n",
      "R sqared (Overall model accuracy): -0.5904285714285713\n",
      "RMSE (Mean Squared Error): 0.2748888888888889\n",
      "-------------------------------- \n",
      "\n"
     ]
    }
   ],
   "source": [
    "models=[]\n",
    "performance=[]\n",
    "\n",
    "for name, model in algo_Candidates:\n",
    "    # train the model\n",
    "    model = model.fit(X_train, y_train.values.ravel())\n",
    "    \n",
    "    # Get predictions and performance\n",
    "    y_val_pred = model.predict(X_val)\n",
    "    \n",
    "    # Measure\n",
    "    predictions = model.predict(X_val)\n",
    "    predRsquared = r2_score(y_val,predictions)\n",
    "    rmse = sqrt(mean_squared_error(y_val, predictions))\n",
    "    \n",
    "    # print results\n",
    "    print('MODEL: ',name)\n",
    "    print('R Squared: %.3f' % predRsquared)\n",
    "    #print('RMSE: %.3f' % rmse)\n",
    "    #print('-')\n",
    "    print('Train score: {}'.format(model.score(X_train,y_train)))\n",
    "    print('Validation score: {}'.format(model.score(X_test,y_test)))\n",
    "    print('R sqared (Overall model accuracy): {}'.format(r2_score(y_val,predictions)))\n",
    "    print('RMSE (Mean Squared Error): {}'.format(mean_squared_error(y_val,predictions)))\n",
    "    print('-------------------------------- \\n')\n",
    "    \n",
    "    # save the models into a list of tuples\n",
    "    models.append((name,model))"
   ]
  },
  {
   "cell_type": "markdown",
   "metadata": {},
   "source": [
    "* from this list of algorithms I choose **Gradient boosting Regresor**. It's performing poorly but has acceptable values. \n",
    "\n",
    "\n",
    "\n",
    "* **Random Forest Regressor** is overfitting, because it's performing pretty well on the training set, but poorly in the validation set. \n",
    "* **Linear Regression** has a very low score, but it's not overfitting. \n",
    "* **SVR** has negative values everywhere. \n",
    "* **LogReg** is ding nice on the train/val, but with negative values on R2.\n",
    "* **k-NN** is ding nice on the train/val, but with negative values on R2.\n",
    "* **Decision Tree Regressor** is oferfitting a lot. "
   ]
  },
  {
   "cell_type": "markdown",
   "metadata": {},
   "source": [
    "# Phase 2: \n",
    "\n",
    "Train with Cross-Validation and select the best candidates"
   ]
  },
  {
   "cell_type": "markdown",
   "metadata": {},
   "source": [
    "### Cross Validation "
   ]
  },
  {
   "cell_type": "code",
   "execution_count": 37,
   "metadata": {},
   "outputs": [],
   "source": [
    "results = []\n",
    "names = []\n",
    "for name, model in models:\n",
    "    result = cross_val_score(model, X_train, y_train.values.ravel(), cv=3, scoring='r2')\n",
    "    names.append(name)\n",
    "    results.append(result)"
   ]
  },
  {
   "cell_type": "markdown",
   "metadata": {},
   "source": [
    "### Define the best candidates\n",
    "\n",
    "As we used **r2** as scoring in the Cross-Val, we want to use the algorithms with values as close as possible to 1.  "
   ]
  },
  {
   "cell_type": "code",
   "execution_count": 38,
   "metadata": {},
   "outputs": [
    {
     "name": "stdout",
     "output_type": "stream",
     "text": [
      "Random Forest Regressor  r2 ->  0.16\n",
      "Linear Regression  r2 ->  0.11\n",
      "Suport Vector Regression  r2 ->  -0.08\n",
      "Logistic Regression  r2 ->  -0.28\n",
      "k-NN  r2 ->  -0.44\n",
      "Gradient Boosting Regressor  r2 ->  0.21\n",
      "Desicion Tree Regressor  r2 ->  -0.61\n"
     ]
    }
   ],
   "source": [
    "for i in range(len(names)):\n",
    "    \n",
    "    print(names[i], ' r2 -> ', round(results[i].mean(),2))"
   ]
  },
  {
   "cell_type": "markdown",
   "metadata": {},
   "source": [
    "So the best algorithm is **Gradient Boosting Regressor**. \n",
    "\n",
    "The negative values means that this model is not performing better than the most stupid one that's an horizontal line simple line, wich predicts always the same value. "
   ]
  },
  {
   "cell_type": "markdown",
   "metadata": {},
   "source": [
    "# Phase 3:\n",
    "\n",
    "Find a better hyper-parameters values combination"
   ]
  },
  {
   "cell_type": "markdown",
   "metadata": {
    "heading_collapsed": "true"
   },
   "source": [
    "## Gradient Boosting Regressor\n"
   ]
  },
  {
   "cell_type": "code",
   "execution_count": 40,
   "metadata": {},
   "outputs": [
    {
     "data": {
      "text/plain": [
       "{'alpha': 0.9,\n",
       " 'ccp_alpha': 0.0,\n",
       " 'criterion': 'friedman_mse',\n",
       " 'init': None,\n",
       " 'learning_rate': 0.1,\n",
       " 'loss': 'ls',\n",
       " 'max_depth': 3,\n",
       " 'max_features': None,\n",
       " 'max_leaf_nodes': None,\n",
       " 'min_impurity_decrease': 0.0,\n",
       " 'min_impurity_split': None,\n",
       " 'min_samples_leaf': 1,\n",
       " 'min_samples_split': 2,\n",
       " 'min_weight_fraction_leaf': 0.0,\n",
       " 'n_estimators': 100,\n",
       " 'n_iter_no_change': None,\n",
       " 'presort': 'deprecated',\n",
       " 'random_state': None,\n",
       " 'subsample': 1.0,\n",
       " 'tol': 0.0001,\n",
       " 'validation_fraction': 0.1,\n",
       " 'verbose': 0,\n",
       " 'warm_start': False}"
      ]
     },
     "execution_count": 40,
     "metadata": {},
     "output_type": "execute_result"
    }
   ],
   "source": [
    "gradient_model = GradientBoostingRegressor()  # instantiate the model\n",
    "\n",
    "# print the state of full list of parametrizable parameters\n",
    "gradient_model.get_params(deep=True)"
   ]
  },
  {
   "cell_type": "code",
   "execution_count": 67,
   "metadata": {},
   "outputs": [],
   "source": [
    "params = {\n",
    "    'max_features':['auto','sqrt','log2'],\n",
    "    'min_samples_split':[2,3,4,5,6,7,8,9],\n",
    "    'min_samples_leaf':[1,2,3,4,5,6,7,8,9],\n",
    "    'max_depth':[2,3,4,5,6,7],\n",
    "    'learning_rate' : [0.05,0.1,0.2,0.3,0.4,0.5]\n",
    "         }   \n",
    "\n",
    "gradient_search = RandomizedSearchCV(gradient_model,params,cv=4,n_jobs=-1,n_iter=50)   # initialize the search\n",
    "\n",
    "gradient_search.fit(X_train,y_train.values.ravel())   # fit the model\n",
    "\n",
    "gradient_pred = gradient_search.predict(X_val)  # make predictions with the model"
   ]
  },
  {
   "cell_type": "code",
   "execution_count": 49,
   "metadata": {},
   "outputs": [
    {
     "name": "stdout",
     "output_type": "stream",
     "text": [
      "Best parameter found:\n",
      "{'min_samples_split': 8, 'min_samples_leaf': 4, 'max_features': 'log2', 'max_depth': 5, 'learning_rate': 0.05}\n",
      "\n",
      "Train score: 0.2601606499756818\n",
      "\n",
      "Test score: 0.2134446373903629\n",
      "\n",
      "Overall model accuracy: 0.2134446373903629\n",
      "\n",
      "Mean Squared Error: 0.1359478404510484\n",
      "\n"
     ]
    }
   ],
   "source": [
    "# print out the best parameters and score the model\n",
    "print('Best parameter found:\\n{}\\n'.format(gradient_search.best_params_))\n",
    "print('Train score: {}\\n'.format(gradient_search.score(X_train,y_train)))\n",
    "print('Test score: {}\\n'.format(gradient_search.score(X_val,y_val)))\n",
    "print('Overall model accuracy: {}\\n'.format(r2_score(y_val,gradient_pred)))\n",
    "print('Mean Squared Error: {}\\n'.format(mean_squared_error(y_val,gradient_pred)))"
   ]
  },
  {
   "cell_type": "markdown",
   "metadata": {
    "heading_collapsed": "true"
   },
   "source": [
    "## Random Forest Regressor"
   ]
  },
  {
   "cell_type": "code",
   "execution_count": 12,
   "metadata": {},
   "outputs": [
    {
     "data": {
      "text/plain": [
       "{'bootstrap': True,\n",
       " 'ccp_alpha': 0.0,\n",
       " 'criterion': 'mse',\n",
       " 'max_depth': None,\n",
       " 'max_features': 'auto',\n",
       " 'max_leaf_nodes': None,\n",
       " 'max_samples': None,\n",
       " 'min_impurity_decrease': 0.0,\n",
       " 'min_impurity_split': None,\n",
       " 'min_samples_leaf': 1,\n",
       " 'min_samples_split': 2,\n",
       " 'min_weight_fraction_leaf': 0.0,\n",
       " 'n_estimators': 100,\n",
       " 'n_jobs': None,\n",
       " 'oob_score': False,\n",
       " 'random_state': None,\n",
       " 'verbose': 0,\n",
       " 'warm_start': False}"
      ]
     },
     "execution_count": 12,
     "metadata": {},
     "output_type": "execute_result"
    }
   ],
   "source": [
    "model_RF = RandomForestRegressor()\n",
    "\n",
    "# print the full list of parametrizable parameters\n",
    "model_RF.get_params(deep=True)"
   ]
  },
  {
   "cell_type": "markdown",
   "metadata": {
    "heading_collapsed": "true"
   },
   "source": [
    "### using RandomizedSearchCV\n",
    "\n",
    "GridSearchCV can be computationally expensive, especially if you are searching over a large hyperparameter space and dealing with multiple hyperparameters. A solution to this is to use RandomizedSearchCV, in which not all hyperparameter values are tried out. Instead, a fixed number of hyperparameter settings is sampled from specified probability distributions."
   ]
  },
  {
   "cell_type": "code",
   "execution_count": 13,
   "metadata": {},
   "outputs": [],
   "source": [
    "#Setup the parameters and distributions to sample from: param_dist\n",
    "\n",
    "# numers of trees\n",
    "n_estimators = [2,5,8,10]\n",
    "# max number of features to consider at every split\n",
    "max_features = ['auto', 'sqrt', 'log2']\n",
    "# max number of levels in tree\n",
    "max_depth = [5, 10, 15, 20]# 30, 40, 50]\n",
    "max_depth.append(None)\n",
    "# min number of samples required to split a node\n",
    "min_samples_split = [2,5,10,20,30]\n",
    "# min number of samples required at each leaf node\n",
    "min_samples_leaf = [1,2,5,10,15]\n",
    "\n",
    "\n",
    "param_dist = {#'bootstrap': True, \n",
    "              #'ccp_alpha': 0.0,\n",
    "              #'criterion': 'mse',\n",
    "              'n_estimators': n_estimators, \n",
    "              'max_features': max_features,\n",
    "              'max_depth':max_depth,\n",
    "              'min_samples_split':min_samples_split,\n",
    "              'min_samples_leaf':min_samples_leaf\n",
    "              #'max_leaf_nodes': None,\n",
    "              #'max_samples': None,\n",
    "              #'min_impurity_decrease': 0.0, \n",
    "              #'min_impurity_split': None, \n",
    "              #'min_weight_fraction_leaf': 0.0,           \n",
    "              #'n_jobs': None, \n",
    "              #'oob_score': False, \n",
    "              #'random_state': None,\n",
    "              #'verbose': 0, \n",
    "              #'warm_start': False\n",
    "             }"
   ]
  },
  {
   "cell_type": "code",
   "execution_count": 14,
   "metadata": {},
   "outputs": [],
   "source": [
    "# instantiate the RandomizedSearchCV object: model_cv\n",
    "model_CV1 = RandomizedSearchCV(model_RF, param_dist, cv=3)"
   ]
  },
  {
   "cell_type": "code",
   "execution_count": 15,
   "metadata": {},
   "outputs": [
    {
     "data": {
      "text/plain": [
       "RandomizedSearchCV(cv=3, estimator=RandomForestRegressor(),\n",
       "                   param_distributions={'max_depth': [5, 10, 15, 20, None],\n",
       "                                        'max_features': ['auto', 'sqrt',\n",
       "                                                         'log2'],\n",
       "                                        'min_samples_leaf': [1, 2, 5, 10, 15],\n",
       "                                        'min_samples_split': [2, 5, 10, 20, 30],\n",
       "                                        'n_estimators': [2, 5, 8, 10]})"
      ]
     },
     "execution_count": 15,
     "metadata": {},
     "output_type": "execute_result"
    }
   ],
   "source": [
    "# Fit it to the data\n",
    "model_CV1.fit(X_train,y_train.values.ravel())"
   ]
  },
  {
   "cell_type": "code",
   "execution_count": 16,
   "metadata": {},
   "outputs": [
    {
     "name": "stdout",
     "output_type": "stream",
     "text": [
      "Tuned Decision Tree Parameters: {'n_estimators': 5, 'min_samples_split': 20, 'min_samples_leaf': 15, 'max_features': 'sqrt', 'max_depth': 5}\n"
     ]
    }
   ],
   "source": [
    "# Print the tuned parameters and score\n",
    "print(\"Tuned Decision Tree Parameters: {}\".format(model_CV1.best_params_))"
   ]
  },
  {
   "cell_type": "code",
   "execution_count": 17,
   "metadata": {},
   "outputs": [
    {
     "name": "stdout",
     "output_type": "stream",
     "text": [
      "-0.08364894447276616\n"
     ]
    }
   ],
   "source": [
    "result_CV1 = cross_val_score(model_CV1, X_val, y_val.values.ravel(), cv=3, scoring='r2')\n",
    "print(result.mean())"
   ]
  },
  {
   "cell_type": "markdown",
   "metadata": {},
   "source": [
    "# Phase 4"
   ]
  },
  {
   "cell_type": "code",
   "execution_count": 50,
   "metadata": {},
   "outputs": [],
   "source": [
    "# define the model\n",
    "name = 'Gradient Boosting Regressor'\n",
    "model = gradient_search\n",
    "\n",
    "# train the model\n",
    "model_test = model.fit(X_test, y_test.values.ravel())\n",
    "\n",
    "# make predictions with the model\n",
    "model_pred = model.predict(X_test)"
   ]
  },
  {
   "cell_type": "code",
   "execution_count": 66,
   "metadata": {},
   "outputs": [
    {
     "name": "stdout",
     "output_type": "stream",
     "text": [
      "MODEL:  Gradient Boosting Regressor\n",
      "Train score: 0.238\n",
      "Validation score: 0.206\n",
      "Test score: 0.238\n",
      "R sqared (Overall model accuracy): 0.238\n",
      "RMSE (Mean Squared Error): 0.135\n",
      "-------------------------------- \n",
      "\n"
     ]
    }
   ],
   "source": [
    "# Measure\n",
    "print('MODEL: ',name)\n",
    "#print('R Squared: %.3f' % predRsquared)\n",
    "#print('RMSE: %.3f' % rmse)\n",
    "#print('-')\n",
    "\n",
    "print('Train score: %.3f' % model.score(X_test,y_test))\n",
    "print('Validation score: %.3f' % model.score(X_val,y_val))\n",
    "print('Test score: %.3f' % model.score(X_test,y_test))\n",
    "print('R sqared (Overall model accuracy): %.3f' % r2_score(y_test,model_pred))\n",
    "print('RMSE (Mean Squared Error): %.3f' % mean_squared_error(y_test,model_pred))\n",
    "print('-------------------------------- \\n')"
   ]
  },
  {
   "cell_type": "code",
   "execution_count": 97,
   "metadata": {},
   "outputs": [
    {
     "data": {
      "image/png": "[encoded data removed]",
      "text/plain": [
       "<Figure size 432x288 with 1 Axes>"
      ]
     },
     "metadata": {
      "needs_background": "light"
     },
     "output_type": "display_data"
    }
   ],
   "source": [
    "plt.scatter(y_test, model_pred, alpha = 0.002, s=400)\n",
    "plt.xlabel('Ground Truth')\n",
    "plt.ylabel('Predictions')\n",
    "plt.show();"
   ]
  },
  {
   "cell_type": "code",
   "execution_count": 125,
   "metadata": {},
   "outputs": [
    {
     "data": {
      "image/png": "[encoded data removed]",
      "text/plain": [
       "<Figure size 432x288 with 1 Axes>"
      ]
     },
     "metadata": {
      "needs_background": "light"
     },
     "output_type": "display_data"
    }
   ],
   "source": [
    "true_val = y_test.values.ravel()\n",
    "pred_val = model_pred\n",
    "sns.stripplot(x=test, y=pred_val, data=df, jitter=True, alpha=.1, size = 5)\n",
    "sns.despine()"
   ]
  },
  {
   "cell_type": "code",
   "execution_count": 104,
   "metadata": {},
   "outputs": [
    {
     "name": "stdout",
     "output_type": "stream",
     "text": [
      "Checking the row #: 6452\n",
      "Actual value:  0\n",
      "Predicted value: 0.09\n",
      "\n",
      "Checking the row #: 27540\n",
      "Actual value:  1\n",
      "Predicted value: 0.11\n",
      "\n",
      "Checking the row #: 29128\n",
      "Actual value:  0\n",
      "Predicted value: 0.13\n",
      "\n",
      "Checking the row #: 3544\n",
      "Actual value:  1\n",
      "Predicted value: 0.30\n",
      "\n",
      "Checking the row #: 6769\n",
      "Actual value:  0\n",
      "Predicted value: 0.15\n",
      "\n",
      "Checking the row #: 28069\n",
      "Actual value:  0\n",
      "Predicted value: 0.11\n",
      "\n",
      "Checking the row #: 18607\n",
      "Actual value:  0\n",
      "Predicted value: 0.19\n",
      "\n",
      "Checking the row #: 6592\n",
      "Actual value:  0\n",
      "Predicted value: 0.08\n",
      "\n",
      "Checking the row #: 13225\n",
      "Actual value:  0\n",
      "Predicted value: 0.13\n",
      "\n",
      "Checking the row #: 19948\n",
      "Actual value:  0\n",
      "Predicted value: 0.05\n",
      "\n"
     ]
    }
   ],
   "source": [
    "import random\n",
    "\n",
    "for a in range(10):\n",
    "    a = random.randint(0, len(X))\n",
    "    print('Checking the row #:', a)\n",
    "    print('Actual value: ', y['Y_default'][a])\n",
    "    print('Predicted value: %.2f' % model.predict(X)[a])\n",
    "    print('')"
   ]
  }
 ],
 "metadata": {
  "kernelspec": {
   "display_name": "Python 3",
   "language": "python",
   "name": "python3"
  },
  "language_info": {
   "codemirror_mode": {
    "name": "ipython",
    "version": 3
   },
   "file_extension": ".py",
   "mimetype": "text/x-python",
   "name": "python",
   "nbconvert_exporter": "python",
   "pygments_lexer": "ipython3",
   "version": "3.8.5"
  }
 },
 "nbformat": 4,
 "nbformat_minor": 4
}
